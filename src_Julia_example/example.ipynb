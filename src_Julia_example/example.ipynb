{
 "cells": [
  {
   "cell_type": "markdown",
   "id": "10fceb90-a958-4674-87e3-6abb9d341680",
   "metadata": {
    "tags": []
   },
   "source": [
    "### For the first run\n"
   ]
  },
  {
   "cell_type": "code",
   "execution_count": 3,
   "id": "3a3a59b6-4316-4310-ba44-ad436f6679f0",
   "metadata": {
    "tags": []
   },
   "outputs": [
    {
     "name": "stderr",
     "output_type": "stream",
     "text": [
      "\u001b[32m\u001b[1m  Activating\u001b[22m\u001b[39m project at `/workdir`\n",
      "\u001b[32m\u001b[1m    Updating\u001b[22m\u001b[39m registry at `/opt/julia/registries/General.toml`\n",
      "\u001b[32m\u001b[1m   Resolving\u001b[22m\u001b[39m package versions...\n",
      "\u001b[32m\u001b[1m  No Changes\u001b[22m\u001b[39m to `/workdir/Project.toml`\n",
      "\u001b[32m\u001b[1m  No Changes\u001b[22m\u001b[39m to `/workdir/Manifest.toml`\n",
      "\u001b[32m\u001b[1m   Resolving\u001b[22m\u001b[39m package versions...\n",
      "\u001b[32m\u001b[1m   Installed\u001b[22m\u001b[39m RelocatableFolders ─ v1.0.0\n",
      "\u001b[32m\u001b[1m   Installed\u001b[22m\u001b[39m Scratch ──────────── v1.2.0\n",
      "\u001b[32m\u001b[1m   Installed\u001b[22m\u001b[39m PackageCompiler ──── v2.1.5\n",
      "\u001b[32m\u001b[1m    Updating\u001b[22m\u001b[39m `/workdir/Project.toml`\n",
      " \u001b[90m [9b87118b] \u001b[39m\u001b[92m+ PackageCompiler v2.1.5\u001b[39m\n",
      "\u001b[32m\u001b[1m    Updating\u001b[22m\u001b[39m `/workdir/Manifest.toml`\n",
      " \u001b[90m [9b87118b] \u001b[39m\u001b[92m+ PackageCompiler v2.1.5\u001b[39m\n",
      " \u001b[90m [05181044] \u001b[39m\u001b[92m+ RelocatableFolders v1.0.0\u001b[39m\n",
      " \u001b[90m [6c6a2e73] \u001b[39m\u001b[92m+ Scratch v1.2.0\u001b[39m\n",
      " \u001b[90m [0dad84c5] \u001b[39m\u001b[92m+ ArgTools v1.1.1\u001b[39m\n",
      " \u001b[90m [f43a241f] \u001b[39m\u001b[92m+ Downloads v1.6.0\u001b[39m\n",
      " \u001b[90m [7b1f6079] \u001b[39m\u001b[92m+ FileWatching\u001b[39m\n",
      " \u001b[90m [4af54fe1] \u001b[39m\u001b[92m+ LazyArtifacts\u001b[39m\n",
      " \u001b[90m [b27032c2] \u001b[39m\u001b[92m+ LibCURL v0.6.3\u001b[39m\n",
      " \u001b[90m [76f85450] \u001b[39m\u001b[92m+ LibGit2\u001b[39m\n",
      " \u001b[90m [ca575930] \u001b[39m\u001b[92m+ NetworkOptions v1.2.0\u001b[39m\n",
      " \u001b[90m [44cfe95a] \u001b[39m\u001b[92m+ Pkg v1.8.0\u001b[39m\n",
      " \u001b[90m [3fa0cd96] \u001b[39m\u001b[92m+ REPL\u001b[39m\n",
      " \u001b[90m [6462fe0b] \u001b[39m\u001b[92m+ Sockets\u001b[39m\n",
      " \u001b[90m [fa267f1f] \u001b[39m\u001b[92m+ TOML v1.0.0\u001b[39m\n",
      " \u001b[90m [a4e569a6] \u001b[39m\u001b[92m+ Tar v1.10.1\u001b[39m\n",
      " \u001b[90m [deac9b47] \u001b[39m\u001b[92m+ LibCURL_jll v7.84.0+0\u001b[39m\n",
      " \u001b[90m [29816b5a] \u001b[39m\u001b[92m+ LibSSH2_jll v1.10.2+0\u001b[39m\n",
      " \u001b[90m [c8ffd9c3] \u001b[39m\u001b[92m+ MbedTLS_jll v2.28.0+0\u001b[39m\n",
      " \u001b[90m [14a3606d] \u001b[39m\u001b[92m+ MozillaCACerts_jll v2022.2.1\u001b[39m\n",
      " \u001b[90m [83775a58] \u001b[39m\u001b[92m+ Zlib_jll v1.2.12+3\u001b[39m\n",
      " \u001b[90m [8e850ede] \u001b[39m\u001b[92m+ nghttp2_jll v1.48.0+0\u001b[39m\n",
      " \u001b[90m [3f19e933] \u001b[39m\u001b[92m+ p7zip_jll v17.4.0+0\u001b[39m\n",
      "\u001b[32m\u001b[1mPrecompiling\u001b[22m\u001b[39m project...\n",
      "\u001b[32m  ✓ \u001b[39m\u001b[90mScratch\u001b[39m\n",
      "\u001b[32m  ✓ \u001b[39m\u001b[90mRelocatableFolders\u001b[39m\n",
      "\u001b[32m  ✓ \u001b[39mPackageCompiler\n",
      "  3 dependencies successfully precompiled in 1 seconds. 21 already precompiled.\n"
     ]
    }
   ],
   "source": [
    "using Pkg\n",
    "Pkg.activate(\".\")\n",
    "Pkg.add(\"FreqTables\")\n",
    "Pkg.add(\"PackageCompiler\")"
   ]
  },
  {
   "cell_type": "code",
   "execution_count": null,
   "id": "23ee4a32-ba88-4a0b-88a1-633eb444cb64",
   "metadata": {
    "tags": []
   },
   "outputs": [],
   "source": [
    "using PackageCompiler\n",
    "create_sysimage([\"FreqTables\"], sysimage_path=\"freqtables.so\")"
   ]
  },
  {
   "cell_type": "markdown",
   "id": "9fc42939-bf9b-414b-82e3-f56c5fa45a1d",
   "metadata": {},
   "source": [
    "### For the second run or thereafter "
   ]
  },
  {
   "cell_type": "code",
   "execution_count": 1,
   "id": "a42f178b-9abd-4fab-acb9-dc38b657459e",
   "metadata": {
    "tags": []
   },
   "outputs": [
    {
     "data": {
      "text/plain": [
       "4-element Named Vector{Int64}\n",
       "Dim1  │ \n",
       "──────┼────\n",
       "a     │ 100\n",
       "b     │ 100\n",
       "c     │ 100\n",
       "d     │ 100"
      ]
     },
     "execution_count": 1,
     "metadata": {},
     "output_type": "execute_result"
    }
   ],
   "source": [
    "using FreqTables\n",
    "x = repeat([\"a\", \"b\", \"c\", \"d\"], outer=[100]);\n",
    "y = repeat([\"A\", \"B\", \"C\", \"D\"], inner=[10], outer=[10]);\n",
    "tbl = freqtable(x)"
   ]
  },
  {
   "cell_type": "markdown",
   "id": "01000771-2a85-49a8-b8b8-e05c13b101fa",
   "metadata": {},
   "source": [
    "### Check multi-threading"
   ]
  },
  {
   "cell_type": "code",
   "execution_count": 1,
   "id": "467ce397-926d-49a6-9ed9-b403bd5887c4",
   "metadata": {
    "tags": []
   },
   "outputs": [
    {
     "data": {
      "text/plain": [
       "4"
      ]
     },
     "execution_count": 1,
     "metadata": {},
     "output_type": "execute_result"
    }
   ],
   "source": [
    "Threads.nthreads()"
   ]
  },
  {
   "cell_type": "code",
   "execution_count": null,
   "id": "2f350f9b-1138-49e9-88be-5d5f7f0d9c32",
   "metadata": {},
   "outputs": [],
   "source": []
  }
 ],
 "metadata": {
  "kernelspec": {
   "display_name": "Julia 1.8.5",
   "language": "julia",
   "name": "julia-1.8"
  },
  "language_info": {
   "file_extension": ".jl",
   "mimetype": "application/julia",
   "name": "julia",
   "version": "1.8.5"
  }
 },
 "nbformat": 4,
 "nbformat_minor": 5
}
