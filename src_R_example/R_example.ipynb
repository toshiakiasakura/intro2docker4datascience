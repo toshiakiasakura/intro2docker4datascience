{
 "cells": [
  {
   "cell_type": "code",
   "execution_count": 1,
   "id": "de1dc746-c621-4e7c-9a86-b2c56d96c597",
   "metadata": {
    "tags": []
   },
   "outputs": [
    {
     "name": "stderr",
     "output_type": "stream",
     "text": [
      "── \u001b[1mAttaching core tidyverse packages\u001b[22m ──────────────────────── tidyverse 2.0.0 ──\n",
      "\u001b[32m✔\u001b[39m \u001b[34mdplyr    \u001b[39m 1.1.2     \u001b[32m✔\u001b[39m \u001b[34mreadr    \u001b[39m 2.1.4\n",
      "\u001b[32m✔\u001b[39m \u001b[34mforcats  \u001b[39m 1.0.0     \u001b[32m✔\u001b[39m \u001b[34mstringr  \u001b[39m 1.5.0\n",
      "\u001b[32m✔\u001b[39m \u001b[34mggplot2  \u001b[39m 3.4.2     \u001b[32m✔\u001b[39m \u001b[34mtibble   \u001b[39m 3.2.1\n",
      "\u001b[32m✔\u001b[39m \u001b[34mlubridate\u001b[39m 1.9.2     \u001b[32m✔\u001b[39m \u001b[34mtidyr    \u001b[39m 1.3.0\n",
      "\u001b[32m✔\u001b[39m \u001b[34mpurrr    \u001b[39m 1.0.1     \n",
      "── \u001b[1mConflicts\u001b[22m ────────────────────────────────────────── tidyverse_conflicts() ──\n",
      "\u001b[31m✖\u001b[39m \u001b[34mdplyr\u001b[39m::\u001b[32mfilter()\u001b[39m masks \u001b[34mstats\u001b[39m::filter()\n",
      "\u001b[31m✖\u001b[39m \u001b[34mdplyr\u001b[39m::\u001b[32mlag()\u001b[39m    masks \u001b[34mstats\u001b[39m::lag()\n",
      "\u001b[36mℹ\u001b[39m Use the conflicted package (\u001b[3m\u001b[34m<http://conflicted.r-lib.org/>\u001b[39m\u001b[23m) to force all conflicts to become errors\n",
      "\n",
      "Attaching package: ‘magrittr’\n",
      "\n",
      "\n",
      "The following object is masked from ‘package:purrr’:\n",
      "\n",
      "    set_names\n",
      "\n",
      "\n",
      "The following object is masked from ‘package:tidyr’:\n",
      "\n",
      "    extract\n",
      "\n",
      "\n"
     ]
    }
   ],
   "source": [
    "library(tidyverse) \n",
    "library(glue)\n",
    "library(magrittr)\n",
    "library(ggplot2)"
   ]
  },
  {
   "cell_type": "code",
   "execution_count": 2,
   "id": "01e40fcb-efd2-4b6c-a69b-395a95311868",
   "metadata": {
    "tags": []
   },
   "outputs": [],
   "source": [
    "library(finalfit)"
   ]
  },
  {
   "cell_type": "markdown",
   "id": "577878f0-3bad-4db5-be4e-c972f700fe59",
   "metadata": {},
   "source": [
    "## Finalfit example."
   ]
  },
  {
   "cell_type": "code",
   "execution_count": 5,
   "id": "11036bec-7321-427b-ab31-0f8387af7a6c",
   "metadata": {
    "tags": []
   },
   "outputs": [
    {
     "name": "stderr",
     "output_type": "stream",
     "text": [
      "Warning message:\n",
      "“\u001b[1m\u001b[22mThere was 1 warning in `dplyr::summarise()`.\n",
      "\u001b[1m\u001b[22m\u001b[36mℹ\u001b[39m In argument: `chisq.test(age.factor, perfor.factor)$p.value`.\n",
      "Caused by warning in `chisq.test()`:\n",
      "\u001b[33m!\u001b[39m Chi-squared approximation may be incorrect”\n"
     ]
    },
    {
     "data": {
      "text/plain": [
       "\n",
       "\n",
       "|Dependent: Perforation |            |          No|         Yes|     p|\n",
       "|:----------------------|:-----------|-----------:|-----------:|-----:|\n",
       "|Age (years)            |Mean (SD)   | 59.8 (11.9)| 58.4 (13.3)| 0.542|\n",
       "|Age                    |<40 years   |    68 (7.5)|     2 (7.4)| 1.000|\n",
       "|                       |40-59 years |  334 (37.0)|   10 (37.0)|      |\n",
       "|                       |60+ years   |  500 (55.4)|   15 (55.6)|      |\n",
       "|Sex                    |Female      |  432 (47.9)|   13 (48.1)| 1.000|\n",
       "|                       |Male        |  470 (52.1)|   14 (51.9)|      |\n",
       "|Obstruction            |No          |  715 (81.2)|   17 (63.0)| 0.035|\n",
       "|                       |Yes         |  166 (18.8)|   10 (37.0)|      |"
      ]
     },
     "metadata": {},
     "output_type": "display_data"
    }
   ],
   "source": [
    "data(colon_s)\n",
    "# Table 1 - Patient demographics by variable of interest ----\n",
    "explanatory = c(\"age\", \"age.factor\", \"sex.factor\", \"obstruct.factor\")\n",
    "dependent = \"perfor.factor\" # Bowel perforation\n",
    "colon_s %>%\n",
    "  summary_factorlist(dependent, explanatory,\n",
    "  p=TRUE, add_dependent_label=TRUE) -> t1\n",
    "knitr::kable(t1, row.names=FALSE, align=c(\"l\", \"l\", \"r\", \"r\", \"r\"))"
   ]
  },
  {
   "cell_type": "code",
   "execution_count": 6,
   "id": "bcfae5c7-04bb-4809-be62-db6e56731381",
   "metadata": {
    "tags": []
   },
   "outputs": [
    {
     "name": "stderr",
     "output_type": "stream",
     "text": [
      "Note: dependent includes missing data. These are dropped.\n",
      "\n"
     ]
    },
    {
     "data": {
      "text/plain": [
       "\n",
       "\n",
       "|Dependent: Mortality 5 year |            |      Alive|       Died|     p|\n",
       "|:---------------------------|:-----------|----------:|----------:|-----:|\n",
       "|Age                         |<40 years   |   31 (6.1)|   36 (8.9)| 0.020|\n",
       "|                            |40-59 years | 208 (40.7)| 131 (32.4)|      |\n",
       "|                            |60+ years   | 272 (53.2)| 237 (58.7)|      |\n",
       "|Sex                         |Female      | 243 (47.6)| 194 (48.0)| 0.941|\n",
       "|                            |Male        | 268 (52.4)| 210 (52.0)|      |\n",
       "|Obstruction                 |No          | 408 (82.1)| 312 (78.6)| 0.219|\n",
       "|                            |Yes         |  89 (17.9)|  85 (21.4)|      |"
      ]
     },
     "metadata": {},
     "output_type": "display_data"
    }
   ],
   "source": [
    "# Table 2 - 5 yr mortality ----\n",
    "explanatory = c(\"age.factor\", \"sex.factor\", \"obstruct.factor\")\n",
    "dependent = 'mort_5yr'\n",
    "colon_s %>%\n",
    "  summary_factorlist(dependent, explanatory, \n",
    "  p=TRUE, add_dependent_label=TRUE) -> t2\n",
    "knitr::kable(t2, row.names=FALSE, align=c(\"l\", \"l\", \"r\", \"r\", \"r\"))"
   ]
  },
  {
   "cell_type": "code",
   "execution_count": null,
   "id": "dc102c7d-0830-4731-9c4c-286eb60befd1",
   "metadata": {},
   "outputs": [],
   "source": []
  }
 ],
 "metadata": {
  "kernelspec": {
   "display_name": "R",
   "language": "R",
   "name": "ir"
  },
  "language_info": {
   "codemirror_mode": "r",
   "file_extension": ".r",
   "mimetype": "text/x-r-source",
   "name": "R",
   "pygments_lexer": "r",
   "version": "4.2.3"
  }
 },
 "nbformat": 4,
 "nbformat_minor": 5
}
